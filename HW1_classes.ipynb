{
 "cells": [
  {
   "cell_type": "markdown",
   "metadata": {},
   "source": [
    "# Problem 1: A digital ball\n",
    "\n",
    "Write a class to represent spheres. Your class should implement the following methods:\n",
    "\n",
    "* \\_\\_init\\_\\_(self, radius) Creates a sphere having the given radius\n",
    "* getRadius(self) Returns the radius of this sphere\n",
    "* surfaceArea(self) Returns the surface area of the sphere\n",
    "* volume(self) Returns the volume of the sphere\n",
    "\n",
    "Use your new class to calculate the surface area and volume of a sphere of radius 5."
   ]
  },
  {
   "cell_type": "code",
   "execution_count": null,
   "metadata": {},
   "outputs": [],
   "source": [
    "import math\n",
    "from sphere import Sphere"
   ]
  },
  {
   "cell_type": "code",
   "execution_count": null,
   "metadata": {},
   "outputs": [],
   "source": [
    "myBall = Sphere(5)\n",
    "\n",
    "print(myBall.getVolume())"
   ]
  },
  {
   "cell_type": "markdown",
   "metadata": {},
   "source": [
    "# Problem 2: Make a Giga Pet\n",
    "\n",
    "Back in the 90s, there was a popular toy called a Giga Pet, a digital pet that you could care for and raise. We can create our own version of a Giga Pet using Python classes. Create a class `PyPet` with at least the following methods (feel free to add your own):\n",
    "\n",
    "* \\_\\_init\\_\\_(self) Create a PyPet\n",
    "* care(self) Take care of the egg until it hatches, user should give the egg words of encouragement\n",
    "* feed(self) Feed your pet\n",
    "* status(self) Check whether your pet is hungry\n",
    "\n",
    "Your `PyPet` class should also track several attributes of your pet, at a minimum:\n",
    "\n",
    "* **hatched** whether your egg has hatched\n",
    "* **hatched_time** the time when your egg hatched\n",
    "* **start** the time your pet was created\n",
    "* **validation** number of times you have cared for your pet\n",
    "* **last_fed** the time your pet was last fed\n",
    "* **times_fed** total times your pet has been fed\n",
    "* **level** level of pet\n",
    "* **name** name of pet\n",
    "\n",
    "Your egg should hatch after criteria based on both the times it has been cared for as well as total time you have had the egg. Your pet should level up after criteria based on time owned and times fed. \n",
    "\n",
    "Implement your `PyPet` class in a program that allows the user to raise their own PyPet."
   ]
  },
  {
   "cell_type": "code",
   "execution_count": 1,
   "metadata": {},
   "outputs": [],
   "source": [
    "from pet import PyPet"
   ]
  },
  {
   "cell_type": "code",
   "execution_count": 2,
   "metadata": {},
   "outputs": [
    {
     "name": "stdout",
     "output_type": "stream",
     "text": [
      "Congratulations! You have been given a PyPet egg.\n"
     ]
    }
   ],
   "source": [
    "myPet = PyPet()"
   ]
  },
  {
   "cell_type": "code",
   "execution_count": 8,
   "metadata": {},
   "outputs": [
    {
     "name": "stdout",
     "output_type": "stream",
     "text": [
      "Your pet is just grooving\n"
     ]
    }
   ],
   "source": [
    "myPet.status()"
   ]
  },
  {
   "cell_type": "code",
   "execution_count": null,
   "metadata": {},
   "outputs": [],
   "source": []
  }
 ],
 "metadata": {
  "kernelspec": {
   "display_name": "Python 3",
   "language": "python",
   "name": "python3"
  },
  "language_info": {
   "codemirror_mode": {
    "name": "ipython",
    "version": 3
   },
   "file_extension": ".py",
   "mimetype": "text/x-python",
   "name": "python",
   "nbconvert_exporter": "python",
   "pygments_lexer": "ipython3",
   "version": "3.8.8"
  }
 },
 "nbformat": 4,
 "nbformat_minor": 4
}
